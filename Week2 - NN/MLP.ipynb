{
 "cells": [
  {
   "cell_type": "code",
   "execution_count": 1,
   "metadata": {},
   "outputs": [],
   "source": [
    "import tensorflow as tf\n",
    "import numpy as np \n",
    "import random \n",
    "import matplotlib.pyplot as plt "
   ]
  },
  {
   "cell_type": "code",
   "execution_count": 7,
   "metadata": {},
   "outputs": [],
   "source": [
    "# Load data, normalize, convert labels to array\n",
    "\n",
    "(x_train, y_train), (x_test, y_test) = tf.keras.datasets.mnist.load_data()\n",
    "\n",
    "x_train, x_test = x_train/255, x_test/255\n",
    "\n",
    "TRAIN_LENGTH = len(x_train) # 60000\n",
    "TEST_LENGTH = len(x_test) # 10000\n",
    "\n",
    "train_labels = np.zeros((TRAIN_LENGTH, 10))\n",
    "for i, label in enumerate(y_train):\n",
    "    train_labels[i] = (label_to_output(label))\n",
    "\n",
    "test_labels = np.zeros((TEST_LENGTH, 10))\n",
    "for i, label in enumerate(y_test):\n",
    "    test_labels[i] = (label_to_output(label))"
   ]
  },
  {
   "cell_type": "code",
   "execution_count": 9,
   "metadata": {},
   "outputs": [],
   "source": [
    "# Defining some key methods\n",
    "\n",
    "def label_to_output(label):\n",
    "    o = [0]*10\n",
    "    o[label] = 1\n",
    "    return o\n",
    "\n",
    "def sigmoid(x):\n",
    "    return (1 / (1 + np.exp(-x)))\n",
    "\n",
    "def d_sigmoid(x):\n",
    "    return sigmoid(x) * (1-sigmoid(x))"
   ]
  },
  {
   "cell_type": "code",
   "execution_count": null,
   "metadata": {},
   "outputs": [],
   "source": [
    "'''\n",
    "MLN algorithm:: \n",
    "\n",
    "* Input: (m) x 1 x 784\n",
    "\n",
    "* FCL:   64 neurons\n",
    "* FCL_w: (784 x 64)\n",
    "* FCL_b: (1 x 64)\n",
    "\n",
    "* output layer: 10 neurons\n",
    "* output_w:     (64 x 10)\n",
    "* output_b:     (1 x 10)\n",
    "\n",
    "\n",
    "Forward: \n",
    "* x -> Input                                    m x 1 x 784\n",
    "\n",
    "* z1 = Input * FCL_w + FCL_b                    m x 1 x 64\n",
    "* a1 = sigmoid(z1)\n",
    "\n",
    "* z2 = z1 * output_w + output_b                 m x 1 x 10\n",
    "* y  = sigmoid(z2)                              \n",
    "\n",
    "Backward: \n",
    "\n",
    "Step 1: Error\n",
    "* output_error  = (y - loss) .* d_sigmoid(z2)                           m x 1 x 10\n",
    "\n",
    "                   (m x 1 x 10)      (64 x 10)^T    (1) x (1 x 64)\n",
    "* FCL_error     = (output_error * output_w^T) .* (d_sigmoid(z1))        m x 1 x 64\n",
    "\n",
    "\n",
    "Step 2: Gradient descent\n",
    "\n",
    "                 (64 x 10)    constant           m x (1 x 10)^T   m x 1 x 64  \n",
    "* output_w      = output_w - (alpha / m) * sum( output_error^T  *    z1      )^T     64 x 10\n",
    "\n",
    "                  (1 x 10)    constant           m x 1 x 10\n",
    "* output_b      = output_b - (alpha / m) * sum( output_error )\n",
    "\n",
    "                 (784 x 64)   constant           m x (1 x 64)^T   m x 1 x 784  \n",
    "* FCL_w         = FCL_w    - (alpha / m) * sum( FCL_error^T     *    Input   )^T    784 x 64\n",
    "\n",
    "                  (1 x 64)    constant           m x 1 x 64\n",
    "* FCL_b         = FCL_b    - (alpha / m) * sum( output_error )\n",
    "\n",
    "\n",
    "'''\n"
   ]
  },
  {
   "cell_type": "code",
   "execution_count": null,
   "metadata": {},
   "outputs": [],
   "source": [
    "'''\n",
    "\n",
    "batch size\n",
    "\n",
    "'''"
   ]
  }
 ],
 "metadata": {
  "language_info": {
   "codemirror_mode": {
    "name": "ipython",
    "version": 3
   },
   "file_extension": ".py",
   "mimetype": "text/x-python",
   "name": "python",
   "nbconvert_exporter": "python",
   "pygments_lexer": "ipython3",
   "version": "3.7.0-final"
  },
  "orig_nbformat": 2,
  "kernelspec": {
   "name": "python37064bit78953dc494144a2a9da2aa53b3eb18a9",
   "display_name": "Python 3.7.0 64-bit"
  }
 },
 "nbformat": 4,
 "nbformat_minor": 2
}