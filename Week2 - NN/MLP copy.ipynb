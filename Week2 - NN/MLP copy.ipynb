{
 "cells": [
  {
   "cell_type": "code",
   "execution_count": 1,
   "metadata": {},
   "outputs": [],
   "source": [
    "import tensorflow as tf\n",
    "import numpy as np \n",
    "import random \n",
    "import matplotlib.pyplot as plt "
   ]
  },
  {
   "cell_type": "code",
   "execution_count": 2,
   "metadata": {},
   "outputs": [],
   "source": [
    "# Defining some key methods\n",
    "\n",
    "def label_to_output(label):\n",
    "    o = [0]*10\n",
    "    o[label] = 1\n",
    "    return o\n",
    "\n",
    "def sigmoid(x):\n",
    "    return (1 / (1 + np.exp(-x)))\n",
    "\n",
    "def d_sigmoid(x):\n",
    "    return sigmoid(x) * (1-sigmoid(x))"
   ]
  },
  {
   "cell_type": "code",
   "execution_count": 3,
   "metadata": {},
   "outputs": [],
   "source": [
    "# Load data, normalize, convert labels to array\n",
    "\n",
    "(x_train, y_train), (x_test, y_test) = tf.keras.datasets.mnist.load_data()\n",
    "\n",
    "x_train, x_test = x_train/255, x_test/255\n",
    "\n",
    "TRAIN_LENGTH = len(x_train) # 60000\n",
    "TEST_LENGTH = len(x_test) # 10000\n",
    "\n",
    "train_labels = np.zeros((TRAIN_LENGTH, 10))\n",
    "for i, label in enumerate(y_train):\n",
    "    train_labels[i] = (label_to_output(label))\n",
    "\n",
    "test_labels = np.zeros((TEST_LENGTH, 10))\n",
    "for i, label in enumerate(y_test):\n",
    "    test_labels[i] = (label_to_output(label))"
   ]
  },
  {
   "cell_type": "code",
   "execution_count": 40,
   "metadata": {
    "tags": []
   },
   "outputs": [
    {
     "output_type": "stream",
     "name": "stdout",
     "text": "Epoch 1:\n(1, 1, 64)\n(1, 10, 1)\n"
    }
   ],
   "source": [
    "lr = 0.003\n",
    "epochs = 1\n",
    "\n",
    "batch_size = 1\n",
    "train_loader = x_train.reshape(-1, batch_size, 28, 28)\n",
    "label_loader = train_labels.reshape(-1, batch_size, 1, 10)\n",
    "\n",
    "fcl_w = 2 * np.random.rand(784, 64) - 1 \n",
    "fcl_b = 2 * np.random.rand(1,   64) - 1 \n",
    "\n",
    "output_w = 2 * np.random.rand(64, 10) - 1 \n",
    "output_b = 2 * np.random.rand(1,  10) - 1\n",
    "\n",
    "for e in range(epochs):\n",
    "    print(f'Epoch {e+1}:')\n",
    "    # for i, batch in enumerate(train_loader):\n",
    "    for i in range(1):\n",
    "        label = label_loader[i]\n",
    "        x = batch\n",
    "\n",
    "        # Forward Pass\n",
    "        layer_input = x.reshape(-1, 1, 784)\n",
    "        \n",
    "        z1 = np.matmul(layer_input, fcl_w) + fcl_b\n",
    "        a1 = sigmoid(z1)\n",
    "        \n",
    "        z2 = np.matmul(z1, output_w) + output_b\n",
    "        y  = sigmoid(z2)\n",
    "\n",
    "        # Error computation\n",
    "        output_error = (y - label)*d_sigmoid(z2)\n",
    "        fcl_error    = np.matmul(output_error, output_w.transpose())*d_sigmoid(z1)\n",
    "\n",
    "        loss = 0.5 * (1/batch_size) * np.sum((y-label)**2)\n",
    "\n",
    "        print(z1.shape)\n",
    "        print(np.einsum('ijk->ikj', output_error).shape)\n",
    "\n",
    "        # Gradient descent\n",
    "        output_w = output_w - (lr / batch_size) * np.sum(\n",
    "                    np.matmul(np.einsum('ijk->ikj', output_error), z1), axis = 0).transpose()\n",
    "        \n",
    "        output_b = output_b - (lr / batch_size) * np.sum(\n",
    "                    output_error, axis = 0)\n",
    "\n",
    "        fcl_w = fcl_w - (lr / batch_size) * np.sum(\n",
    "                    np.matmul(np.einsum('ijk->ikj', fcl_error), layer_input), axis = 0).transpose()\n",
    "\n",
    "        fcl_b = fcl_b - (lr / batch_size) * np.sum(\n",
    "                    fcl_error, axis = 0)\n",
    "        \n",
    "        # Cross validate\n",
    "        every = 5 # times\n",
    "        if (i+1)%((60000/batch_size)/every) == 0:\n",
    "            layer_input = x_test.reshape(-1, 1, 784)\n",
    "            \n",
    "            z1 = np.matmul(layer_input, fcl_w) + fcl_b\n",
    "            a1 = sigmoid(z1)\n",
    "            \n",
    "            z2 = np.matmul(z1, output_w) + output_b\n",
    "            y  = sigmoid(z2)\n",
    "\n",
    "            # test_loss = 0.5 * (1/10000) * np.sum((y-test_labels)**2)\n",
    "\n",
    "            predictions = np.argmax(y, axis = 2)\n",
    "            equals = predictions == y_test.reshape(10000, 1)\n",
    "            accuracy = np.sum(equals)/10000\n",
    "\n",
    "            print('Batch {}: Loss = {:.3}, CV accuracy = {:.2%}'.format(i+1, loss, accuracy))"
   ]
  },
  {
   "cell_type": "code",
   "execution_count": 17,
   "metadata": {
    "tags": []
   },
   "outputs": [
    {
     "output_type": "stream",
     "name": "stdout",
     "text": "Loss = 0.853, CV accuracy = 12.67%\n[[5.39527870e-06 3.80964835e-05 4.57664876e-08 9.14342968e-01\n  3.20843450e-07 7.87396033e-01 3.93708041e-11 9.02713992e-12\n  2.76011949e-10 2.18903524e-07]]\n[3]\n"
    }
   ],
   "source": [
    "layer_input = x_test.reshape(-1, 1, 784)\n",
    "            \n",
    "z1 = np.matmul(layer_input, fcl_w) + fcl_b\n",
    "a1 = sigmoid(z1)\n",
    "\n",
    "z2 = np.matmul(z1, output_w) + output_b\n",
    "y  = sigmoid(z2)\n",
    "\n",
    "# test_loss = 0.5 * (1/10000) * np.sum((y-test_labels)**2)\n",
    "\n",
    "predictions = np.argmax(y, axis = 2)\n",
    "equals = predictions == y_test.reshape(10000, 1)\n",
    "accuracy = np.sum(equals)/10000\n",
    "\n",
    "print('Loss = {:.3}, CV accuracy = {:.2%}'.format(loss, accuracy))\n"
   ]
  },
  {
   "cell_type": "code",
   "execution_count": 32,
   "metadata": {},
   "outputs": [
    {
     "output_type": "execute_result",
     "data": {
      "text/plain": "Text(0.5, 1.0, 'prediction: 0')"
     },
     "metadata": {},
     "execution_count": 32
    },
    {
     "output_type": "display_data",
     "data": {
      "text/plain": "<Figure size 432x288 with 1 Axes>",
      "image/svg+xml": "<?xml version=\"1.0\" encoding=\"utf-8\" standalone=\"no\"?>\n<!DOCTYPE svg PUBLIC \"-//W3C//DTD SVG 1.1//EN\"\n  \"http://www.w3.org/Graphics/SVG/1.1/DTD/svg11.dtd\">\n<!-- Created with matplotlib (https://matplotlib.org/) -->\n<svg height=\"263.63625pt\" version=\"1.1\" viewBox=\"0 0 255.065 263.63625\" width=\"255.065pt\" xmlns=\"http://www.w3.org/2000/svg\" xmlns:xlink=\"http://www.w3.org/1999/xlink\">\n <defs>\n  <style type=\"text/css\">\n*{stroke-linecap:butt;stroke-linejoin:round;}\n  </style>\n </defs>\n <g id=\"figure_1\">\n  <g id=\"patch_1\">\n   <path d=\"M 0 263.63625 \nL 255.065 263.63625 \nL 255.065 0 \nL 0 0 \nz\n\" style=\"fill:none;\"/>\n  </g>\n  <g id=\"axes_1\">\n   <g id=\"patch_2\">\n    <path d=\"M 26.925 239.758125 \nL 244.365 239.758125 \nL 244.365 22.318125 \nL 26.925 22.318125 \nz\n\" style=\"fill:#ffffff;\"/>\n   </g>\n   <g clip-path=\"url(#p5bd37d71b5)\">\n    <image height=\"218\" id=\"image620b360895\" transform=\"scale(1 -1)translate(0 -218)\" width=\"218\" x=\"26.925\" xlink:href=\"data:image/png;base64,\niVBORw0KGgoAAAANSUhEUgAAANoAAADaCAYAAADAHVzbAAAABHNCSVQICAgIfAhkiAAABYBJREFUeJzt3V+o33Mcx/Hf7zhbLX/X0kbh6Gi0SCza5GJ04gIXNBqi/MnfcaFJ2SUxF3Lhz3DhT4nkvwsLVy6MVhgWsWjODJu1UhvJOefnetn3ffI7+73O+v0ej9tXn/P7Zj196vdtZ+2x9spOC+ipodl+ABgEQoMAoUGA0CBAaBAgNAgQGgQIDQKEBgFCgwChQYDQIEBoECA0CBAaBAgNAoQGAUKDAKFBgNAgQGgQIDQIEBoECA0ChAYBQoMAoUGA0CBAaBAgNAgQGgQIDQKEBgFCgwChQYDQIEBoECA0CBie7QcYRMPHLSr379aMlPu3q54s96FWu9xPfeWO5u3RbeXZiV9/K3cOzI0GAUKDAKFBgNAgQGgQIDQIEBoEtMfaKzuz/RD9aO9Vyxq3+x96oTx70bx9M/rs6d6jTbWa/8hX7zi/PLv9siPLfXLnrnIfVG40CBAaBAgNAoQGAUKDAKFBgNAgwHu0bp17Rjk/9dr6xu3E4XkH+2n2M5P3aNM5/YXV5T6y9pOuf3Y/c6NBgNAgQGgQIDQIEBoECA0C/Lq5Lk0ePqfcjx5q/op9fOKv8uzju1eU+3vvn1Pu07nv8rcat+uP2lGevebSj8p949q5XT1Tv3OjQYDQIEBoECA0CBAaBAgNAoQGAf6aTI/8fvvyxu3Yz/bWhzd9fZCfZn+d5Wc2bhtef748+/QfJ5X7u0sWdPVM/c6NBgFCgwChQYDQIEBoECA0CBAaBHiPxn7+/mCk3F867aVyv/Hq+tfRtT/e/H8fqS+40SBAaBAgNAgQGgQIDQKEBgFCgwC/13EADS9a2LhdfPxX5dkrvr6h3OcP6Huy6bjRIEBoECA0CBAaBAgNAoQGAb7eH0BzXm3e7pq/tTz7zDsXl/v8Vn1+ULnRIEBoECA0CBAaBAgNAoQGAUKDAO/R+tCPjzT/k1GtVqv1xehjjdv4xER5duGmya6eadC50SBAaBAgNAgQGgQIDQKEBgFCgwDv0frQ1uvWl/tkZ27jNrbh7vLs4nc2dfVMg86NBgFCgwChQYDQIEBoECA0CBAaBHiPNguGj1tU7nsuGCn3JXdvKffJzlS5X7ttrHFbfJv3ZL3gRoMAoUGA0CBAaBAgNAgQGgQIDQK8R+uRX+49r3Fbd+tz5dmL5u2b0WePT/xV7n/cWb3H2zOjz+bA3GgQIDQIEBoECA0ChAYBQoMAX+/3yOilPzRuM/36fjpjb64p91M2f9rTz+e/3GgQIDQIEBoECA0ChAYBQoMAoUGA92g98v2Ho43bs8eOlGePOezPcr/qiF3l/vmVj5X7qhdvatymNn9TnqU7bjQIEBoECA0ChAYBQoMAoUGA0CDAe7QeOeHBjY3buw8uKM+2z1lR7qvefrHcjx6aV+6dYf9/TfNfHAKEBgFCgwChQYDQIEBoECA0CPAe7RA0fl+n3Kda9X7Hz8vLfeinnY3bZHmSbrnRIEBoECA0CBAaBAgNAoQGAUKDAO/RemXosMZp2wPnlkc/W1b/XsbdkxPlvv2yI8t98vf690Jy8LnRIEBoECA0CBAaBAgNAoQGAb7e79LuW+u/itK5ZE/jtmXpE9P89DnlevbGW8r95J1fTfPzSXOjQYDQIEBoECA0CBAaBAgNAoQGAd6jdWnvhfvKfcvSl7v+2Zv+bpf76MP/lPtU159Mr7jRIEBoECA0CBAaBAgNAoQGAUKDAO/RunTyuvofODrtnpsbt7NGtpdnt76xuNwXfbmx3Dn0uNEgQGgQIDQIEBoECA0ChAYBQoOA9lh7ZWe2HwL6nRsNAoQGAUKDAKFBgNAgQGgQIDQIEBoECA0ChAYBQoMAoUGA0CBAaBAgNAgQGgQIDQKEBgFCgwChQYDQIEBoEPAvHhSwXzvv5n0AAAAASUVORK5CYII=\" y=\"-21.758125\"/>\n   </g>\n   <g id=\"matplotlib.axis_1\">\n    <g id=\"xtick_1\">\n     <g id=\"line2d_1\">\n      <defs>\n       <path d=\"M 0 0 \nL 0 3.5 \n\" id=\"mec00e9fdab\" style=\"stroke:#000000;stroke-width:0.8;\"/>\n      </defs>\n      <g>\n       <use style=\"stroke:#000000;stroke-width:0.8;\" x=\"30.807857\" xlink:href=\"#mec00e9fdab\" y=\"239.758125\"/>\n      </g>\n     </g>\n     <g id=\"text_1\">\n      <!-- 0 -->\n      <defs>\n       <path d=\"M 31.78125 66.40625 \nQ 24.171875 66.40625 20.328125 58.90625 \nQ 16.5 51.421875 16.5 36.375 \nQ 16.5 21.390625 20.328125 13.890625 \nQ 24.171875 6.390625 31.78125 6.390625 \nQ 39.453125 6.390625 43.28125 13.890625 \nQ 47.125 21.390625 47.125 36.375 \nQ 47.125 51.421875 43.28125 58.90625 \nQ 39.453125 66.40625 31.78125 66.40625 \nz\nM 31.78125 74.21875 \nQ 44.046875 74.21875 50.515625 64.515625 \nQ 56.984375 54.828125 56.984375 36.375 \nQ 56.984375 17.96875 50.515625 8.265625 \nQ 44.046875 -1.421875 31.78125 -1.421875 \nQ 19.53125 -1.421875 13.0625 8.265625 \nQ 6.59375 17.96875 6.59375 36.375 \nQ 6.59375 54.828125 13.0625 64.515625 \nQ 19.53125 74.21875 31.78125 74.21875 \nz\n\" id=\"DejaVuSans-48\"/>\n      </defs>\n      <g transform=\"translate(27.626607 254.356563)scale(0.1 -0.1)\">\n       <use xlink:href=\"#DejaVuSans-48\"/>\n      </g>\n     </g>\n    </g>\n    <g id=\"xtick_2\">\n     <g id=\"line2d_2\">\n      <g>\n       <use style=\"stroke:#000000;stroke-width:0.8;\" x=\"69.636429\" xlink:href=\"#mec00e9fdab\" y=\"239.758125\"/>\n      </g>\n     </g>\n     <g id=\"text_2\">\n      <!-- 5 -->\n      <defs>\n       <path d=\"M 10.796875 72.90625 \nL 49.515625 72.90625 \nL 49.515625 64.59375 \nL 19.828125 64.59375 \nL 19.828125 46.734375 \nQ 21.96875 47.46875 24.109375 47.828125 \nQ 26.265625 48.1875 28.421875 48.1875 \nQ 40.625 48.1875 47.75 41.5 \nQ 54.890625 34.8125 54.890625 23.390625 \nQ 54.890625 11.625 47.5625 5.09375 \nQ 40.234375 -1.421875 26.90625 -1.421875 \nQ 22.3125 -1.421875 17.546875 -0.640625 \nQ 12.796875 0.140625 7.71875 1.703125 \nL 7.71875 11.625 \nQ 12.109375 9.234375 16.796875 8.0625 \nQ 21.484375 6.890625 26.703125 6.890625 \nQ 35.15625 6.890625 40.078125 11.328125 \nQ 45.015625 15.765625 45.015625 23.390625 \nQ 45.015625 31 40.078125 35.4375 \nQ 35.15625 39.890625 26.703125 39.890625 \nQ 22.75 39.890625 18.8125 39.015625 \nQ 14.890625 38.140625 10.796875 36.28125 \nz\n\" id=\"DejaVuSans-53\"/>\n      </defs>\n      <g transform=\"translate(66.455179 254.356563)scale(0.1 -0.1)\">\n       <use xlink:href=\"#DejaVuSans-53\"/>\n      </g>\n     </g>\n    </g>\n    <g id=\"xtick_3\">\n     <g id=\"line2d_3\">\n      <g>\n       <use style=\"stroke:#000000;stroke-width:0.8;\" x=\"108.465\" xlink:href=\"#mec00e9fdab\" y=\"239.758125\"/>\n      </g>\n     </g>\n     <g id=\"text_3\">\n      <!-- 10 -->\n      <defs>\n       <path d=\"M 12.40625 8.296875 \nL 28.515625 8.296875 \nL 28.515625 63.921875 \nL 10.984375 60.40625 \nL 10.984375 69.390625 \nL 28.421875 72.90625 \nL 38.28125 72.90625 \nL 38.28125 8.296875 \nL 54.390625 8.296875 \nL 54.390625 0 \nL 12.40625 0 \nz\n\" id=\"DejaVuSans-49\"/>\n      </defs>\n      <g transform=\"translate(102.1025 254.356563)scale(0.1 -0.1)\">\n       <use xlink:href=\"#DejaVuSans-49\"/>\n       <use x=\"63.623047\" xlink:href=\"#DejaVuSans-48\"/>\n      </g>\n     </g>\n    </g>\n    <g id=\"xtick_4\">\n     <g id=\"line2d_4\">\n      <g>\n       <use style=\"stroke:#000000;stroke-width:0.8;\" x=\"147.293571\" xlink:href=\"#mec00e9fdab\" y=\"239.758125\"/>\n      </g>\n     </g>\n     <g id=\"text_4\">\n      <!-- 15 -->\n      <g transform=\"translate(140.931071 254.356563)scale(0.1 -0.1)\">\n       <use xlink:href=\"#DejaVuSans-49\"/>\n       <use x=\"63.623047\" xlink:href=\"#DejaVuSans-53\"/>\n      </g>\n     </g>\n    </g>\n    <g id=\"xtick_5\">\n     <g id=\"line2d_5\">\n      <g>\n       <use style=\"stroke:#000000;stroke-width:0.8;\" x=\"186.122143\" xlink:href=\"#mec00e9fdab\" y=\"239.758125\"/>\n      </g>\n     </g>\n     <g id=\"text_5\">\n      <!-- 20 -->\n      <defs>\n       <path d=\"M 19.1875 8.296875 \nL 53.609375 8.296875 \nL 53.609375 0 \nL 7.328125 0 \nL 7.328125 8.296875 \nQ 12.9375 14.109375 22.625 23.890625 \nQ 32.328125 33.6875 34.8125 36.53125 \nQ 39.546875 41.84375 41.421875 45.53125 \nQ 43.3125 49.21875 43.3125 52.78125 \nQ 43.3125 58.59375 39.234375 62.25 \nQ 35.15625 65.921875 28.609375 65.921875 \nQ 23.96875 65.921875 18.8125 64.3125 \nQ 13.671875 62.703125 7.8125 59.421875 \nL 7.8125 69.390625 \nQ 13.765625 71.78125 18.9375 73 \nQ 24.125 74.21875 28.421875 74.21875 \nQ 39.75 74.21875 46.484375 68.546875 \nQ 53.21875 62.890625 53.21875 53.421875 \nQ 53.21875 48.921875 51.53125 44.890625 \nQ 49.859375 40.875 45.40625 35.40625 \nQ 44.1875 33.984375 37.640625 27.21875 \nQ 31.109375 20.453125 19.1875 8.296875 \nz\n\" id=\"DejaVuSans-50\"/>\n      </defs>\n      <g transform=\"translate(179.759643 254.356563)scale(0.1 -0.1)\">\n       <use xlink:href=\"#DejaVuSans-50\"/>\n       <use x=\"63.623047\" xlink:href=\"#DejaVuSans-48\"/>\n      </g>\n     </g>\n    </g>\n    <g id=\"xtick_6\">\n     <g id=\"line2d_6\">\n      <g>\n       <use style=\"stroke:#000000;stroke-width:0.8;\" x=\"224.950714\" xlink:href=\"#mec00e9fdab\" y=\"239.758125\"/>\n      </g>\n     </g>\n     <g id=\"text_6\">\n      <!-- 25 -->\n      <g transform=\"translate(218.588214 254.356563)scale(0.1 -0.1)\">\n       <use xlink:href=\"#DejaVuSans-50\"/>\n       <use x=\"63.623047\" xlink:href=\"#DejaVuSans-53\"/>\n      </g>\n     </g>\n    </g>\n   </g>\n   <g id=\"matplotlib.axis_2\">\n    <g id=\"ytick_1\">\n     <g id=\"line2d_7\">\n      <defs>\n       <path d=\"M 0 0 \nL -3.5 0 \n\" id=\"me99eff4c70\" style=\"stroke:#000000;stroke-width:0.8;\"/>\n      </defs>\n      <g>\n       <use style=\"stroke:#000000;stroke-width:0.8;\" x=\"26.925\" xlink:href=\"#me99eff4c70\" y=\"26.200982\"/>\n      </g>\n     </g>\n     <g id=\"text_7\">\n      <!-- 0 -->\n      <g transform=\"translate(13.5625 30.000201)scale(0.1 -0.1)\">\n       <use xlink:href=\"#DejaVuSans-48\"/>\n      </g>\n     </g>\n    </g>\n    <g id=\"ytick_2\">\n     <g id=\"line2d_8\">\n      <g>\n       <use style=\"stroke:#000000;stroke-width:0.8;\" x=\"26.925\" xlink:href=\"#me99eff4c70\" y=\"65.029554\"/>\n      </g>\n     </g>\n     <g id=\"text_8\">\n      <!-- 5 -->\n      <g transform=\"translate(13.5625 68.828772)scale(0.1 -0.1)\">\n       <use xlink:href=\"#DejaVuSans-53\"/>\n      </g>\n     </g>\n    </g>\n    <g id=\"ytick_3\">\n     <g id=\"line2d_9\">\n      <g>\n       <use style=\"stroke:#000000;stroke-width:0.8;\" x=\"26.925\" xlink:href=\"#me99eff4c70\" y=\"103.858125\"/>\n      </g>\n     </g>\n     <g id=\"text_9\">\n      <!-- 10 -->\n      <g transform=\"translate(7.2 107.657344)scale(0.1 -0.1)\">\n       <use xlink:href=\"#DejaVuSans-49\"/>\n       <use x=\"63.623047\" xlink:href=\"#DejaVuSans-48\"/>\n      </g>\n     </g>\n    </g>\n    <g id=\"ytick_4\">\n     <g id=\"line2d_10\">\n      <g>\n       <use style=\"stroke:#000000;stroke-width:0.8;\" x=\"26.925\" xlink:href=\"#me99eff4c70\" y=\"142.686696\"/>\n      </g>\n     </g>\n     <g id=\"text_10\">\n      <!-- 15 -->\n      <g transform=\"translate(7.2 146.485915)scale(0.1 -0.1)\">\n       <use xlink:href=\"#DejaVuSans-49\"/>\n       <use x=\"63.623047\" xlink:href=\"#DejaVuSans-53\"/>\n      </g>\n     </g>\n    </g>\n    <g id=\"ytick_5\">\n     <g id=\"line2d_11\">\n      <g>\n       <use style=\"stroke:#000000;stroke-width:0.8;\" x=\"26.925\" xlink:href=\"#me99eff4c70\" y=\"181.515268\"/>\n      </g>\n     </g>\n     <g id=\"text_11\">\n      <!-- 20 -->\n      <g transform=\"translate(7.2 185.314487)scale(0.1 -0.1)\">\n       <use xlink:href=\"#DejaVuSans-50\"/>\n       <use x=\"63.623047\" xlink:href=\"#DejaVuSans-48\"/>\n      </g>\n     </g>\n    </g>\n    <g id=\"ytick_6\">\n     <g id=\"line2d_12\">\n      <g>\n       <use style=\"stroke:#000000;stroke-width:0.8;\" x=\"26.925\" xlink:href=\"#me99eff4c70\" y=\"220.343839\"/>\n      </g>\n     </g>\n     <g id=\"text_12\">\n      <!-- 25 -->\n      <g transform=\"translate(7.2 224.143058)scale(0.1 -0.1)\">\n       <use xlink:href=\"#DejaVuSans-50\"/>\n       <use x=\"63.623047\" xlink:href=\"#DejaVuSans-53\"/>\n      </g>\n     </g>\n    </g>\n   </g>\n   <g id=\"patch_3\">\n    <path d=\"M 26.925 239.758125 \nL 26.925 22.318125 \n\" style=\"fill:none;stroke:#000000;stroke-linecap:square;stroke-linejoin:miter;stroke-width:0.8;\"/>\n   </g>\n   <g id=\"patch_4\">\n    <path d=\"M 244.365 239.758125 \nL 244.365 22.318125 \n\" style=\"fill:none;stroke:#000000;stroke-linecap:square;stroke-linejoin:miter;stroke-width:0.8;\"/>\n   </g>\n   <g id=\"patch_5\">\n    <path d=\"M 26.925 239.758125 \nL 244.365 239.758125 \n\" style=\"fill:none;stroke:#000000;stroke-linecap:square;stroke-linejoin:miter;stroke-width:0.8;\"/>\n   </g>\n   <g id=\"patch_6\">\n    <path d=\"M 26.925 22.318125 \nL 244.365 22.318125 \n\" style=\"fill:none;stroke:#000000;stroke-linecap:square;stroke-linejoin:miter;stroke-width:0.8;\"/>\n   </g>\n   <g id=\"text_13\">\n    <!-- prediction: 0 -->\n    <defs>\n     <path d=\"M 18.109375 8.203125 \nL 18.109375 -20.796875 \nL 9.078125 -20.796875 \nL 9.078125 54.6875 \nL 18.109375 54.6875 \nL 18.109375 46.390625 \nQ 20.953125 51.265625 25.265625 53.625 \nQ 29.59375 56 35.59375 56 \nQ 45.5625 56 51.78125 48.09375 \nQ 58.015625 40.1875 58.015625 27.296875 \nQ 58.015625 14.40625 51.78125 6.484375 \nQ 45.5625 -1.421875 35.59375 -1.421875 \nQ 29.59375 -1.421875 25.265625 0.953125 \nQ 20.953125 3.328125 18.109375 8.203125 \nz\nM 48.6875 27.296875 \nQ 48.6875 37.203125 44.609375 42.84375 \nQ 40.53125 48.484375 33.40625 48.484375 \nQ 26.265625 48.484375 22.1875 42.84375 \nQ 18.109375 37.203125 18.109375 27.296875 \nQ 18.109375 17.390625 22.1875 11.75 \nQ 26.265625 6.109375 33.40625 6.109375 \nQ 40.53125 6.109375 44.609375 11.75 \nQ 48.6875 17.390625 48.6875 27.296875 \nz\n\" id=\"DejaVuSans-112\"/>\n     <path d=\"M 41.109375 46.296875 \nQ 39.59375 47.171875 37.8125 47.578125 \nQ 36.03125 48 33.890625 48 \nQ 26.265625 48 22.1875 43.046875 \nQ 18.109375 38.09375 18.109375 28.8125 \nL 18.109375 0 \nL 9.078125 0 \nL 9.078125 54.6875 \nL 18.109375 54.6875 \nL 18.109375 46.1875 \nQ 20.953125 51.171875 25.484375 53.578125 \nQ 30.03125 56 36.53125 56 \nQ 37.453125 56 38.578125 55.875 \nQ 39.703125 55.765625 41.0625 55.515625 \nz\n\" id=\"DejaVuSans-114\"/>\n     <path d=\"M 56.203125 29.59375 \nL 56.203125 25.203125 \nL 14.890625 25.203125 \nQ 15.484375 15.921875 20.484375 11.0625 \nQ 25.484375 6.203125 34.421875 6.203125 \nQ 39.59375 6.203125 44.453125 7.46875 \nQ 49.3125 8.734375 54.109375 11.28125 \nL 54.109375 2.78125 \nQ 49.265625 0.734375 44.1875 -0.34375 \nQ 39.109375 -1.421875 33.890625 -1.421875 \nQ 20.796875 -1.421875 13.15625 6.1875 \nQ 5.515625 13.8125 5.515625 26.8125 \nQ 5.515625 40.234375 12.765625 48.109375 \nQ 20.015625 56 32.328125 56 \nQ 43.359375 56 49.78125 48.890625 \nQ 56.203125 41.796875 56.203125 29.59375 \nz\nM 47.21875 32.234375 \nQ 47.125 39.59375 43.09375 43.984375 \nQ 39.0625 48.390625 32.421875 48.390625 \nQ 24.90625 48.390625 20.390625 44.140625 \nQ 15.875 39.890625 15.1875 32.171875 \nz\n\" id=\"DejaVuSans-101\"/>\n     <path d=\"M 45.40625 46.390625 \nL 45.40625 75.984375 \nL 54.390625 75.984375 \nL 54.390625 0 \nL 45.40625 0 \nL 45.40625 8.203125 \nQ 42.578125 3.328125 38.25 0.953125 \nQ 33.9375 -1.421875 27.875 -1.421875 \nQ 17.96875 -1.421875 11.734375 6.484375 \nQ 5.515625 14.40625 5.515625 27.296875 \nQ 5.515625 40.1875 11.734375 48.09375 \nQ 17.96875 56 27.875 56 \nQ 33.9375 56 38.25 53.625 \nQ 42.578125 51.265625 45.40625 46.390625 \nz\nM 14.796875 27.296875 \nQ 14.796875 17.390625 18.875 11.75 \nQ 22.953125 6.109375 30.078125 6.109375 \nQ 37.203125 6.109375 41.296875 11.75 \nQ 45.40625 17.390625 45.40625 27.296875 \nQ 45.40625 37.203125 41.296875 42.84375 \nQ 37.203125 48.484375 30.078125 48.484375 \nQ 22.953125 48.484375 18.875 42.84375 \nQ 14.796875 37.203125 14.796875 27.296875 \nz\n\" id=\"DejaVuSans-100\"/>\n     <path d=\"M 9.421875 54.6875 \nL 18.40625 54.6875 \nL 18.40625 0 \nL 9.421875 0 \nz\nM 9.421875 75.984375 \nL 18.40625 75.984375 \nL 18.40625 64.59375 \nL 9.421875 64.59375 \nz\n\" id=\"DejaVuSans-105\"/>\n     <path d=\"M 48.78125 52.59375 \nL 48.78125 44.1875 \nQ 44.96875 46.296875 41.140625 47.34375 \nQ 37.3125 48.390625 33.40625 48.390625 \nQ 24.65625 48.390625 19.8125 42.84375 \nQ 14.984375 37.3125 14.984375 27.296875 \nQ 14.984375 17.28125 19.8125 11.734375 \nQ 24.65625 6.203125 33.40625 6.203125 \nQ 37.3125 6.203125 41.140625 7.25 \nQ 44.96875 8.296875 48.78125 10.40625 \nL 48.78125 2.09375 \nQ 45.015625 0.34375 40.984375 -0.53125 \nQ 36.96875 -1.421875 32.421875 -1.421875 \nQ 20.0625 -1.421875 12.78125 6.34375 \nQ 5.515625 14.109375 5.515625 27.296875 \nQ 5.515625 40.671875 12.859375 48.328125 \nQ 20.21875 56 33.015625 56 \nQ 37.15625 56 41.109375 55.140625 \nQ 45.0625 54.296875 48.78125 52.59375 \nz\n\" id=\"DejaVuSans-99\"/>\n     <path d=\"M 18.3125 70.21875 \nL 18.3125 54.6875 \nL 36.8125 54.6875 \nL 36.8125 47.703125 \nL 18.3125 47.703125 \nL 18.3125 18.015625 \nQ 18.3125 11.328125 20.140625 9.421875 \nQ 21.96875 7.515625 27.59375 7.515625 \nL 36.8125 7.515625 \nL 36.8125 0 \nL 27.59375 0 \nQ 17.1875 0 13.234375 3.875 \nQ 9.28125 7.765625 9.28125 18.015625 \nL 9.28125 47.703125 \nL 2.6875 47.703125 \nL 2.6875 54.6875 \nL 9.28125 54.6875 \nL 9.28125 70.21875 \nz\n\" id=\"DejaVuSans-116\"/>\n     <path d=\"M 30.609375 48.390625 \nQ 23.390625 48.390625 19.1875 42.75 \nQ 14.984375 37.109375 14.984375 27.296875 \nQ 14.984375 17.484375 19.15625 11.84375 \nQ 23.34375 6.203125 30.609375 6.203125 \nQ 37.796875 6.203125 41.984375 11.859375 \nQ 46.1875 17.53125 46.1875 27.296875 \nQ 46.1875 37.015625 41.984375 42.703125 \nQ 37.796875 48.390625 30.609375 48.390625 \nz\nM 30.609375 56 \nQ 42.328125 56 49.015625 48.375 \nQ 55.71875 40.765625 55.71875 27.296875 \nQ 55.71875 13.875 49.015625 6.21875 \nQ 42.328125 -1.421875 30.609375 -1.421875 \nQ 18.84375 -1.421875 12.171875 6.21875 \nQ 5.515625 13.875 5.515625 27.296875 \nQ 5.515625 40.765625 12.171875 48.375 \nQ 18.84375 56 30.609375 56 \nz\n\" id=\"DejaVuSans-111\"/>\n     <path d=\"M 54.890625 33.015625 \nL 54.890625 0 \nL 45.90625 0 \nL 45.90625 32.71875 \nQ 45.90625 40.484375 42.875 44.328125 \nQ 39.84375 48.1875 33.796875 48.1875 \nQ 26.515625 48.1875 22.3125 43.546875 \nQ 18.109375 38.921875 18.109375 30.90625 \nL 18.109375 0 \nL 9.078125 0 \nL 9.078125 54.6875 \nL 18.109375 54.6875 \nL 18.109375 46.1875 \nQ 21.34375 51.125 25.703125 53.5625 \nQ 30.078125 56 35.796875 56 \nQ 45.21875 56 50.046875 50.171875 \nQ 54.890625 44.34375 54.890625 33.015625 \nz\n\" id=\"DejaVuSans-110\"/>\n     <path d=\"M 11.71875 12.40625 \nL 22.015625 12.40625 \nL 22.015625 0 \nL 11.71875 0 \nz\nM 11.71875 51.703125 \nL 22.015625 51.703125 \nL 22.015625 39.3125 \nL 11.71875 39.3125 \nz\n\" id=\"DejaVuSans-58\"/>\n     <path id=\"DejaVuSans-32\"/>\n    </defs>\n    <g transform=\"translate(97.665937 16.318125)scale(0.12 -0.12)\">\n     <use xlink:href=\"#DejaVuSans-112\"/>\n     <use x=\"63.476562\" xlink:href=\"#DejaVuSans-114\"/>\n     <use x=\"104.558594\" xlink:href=\"#DejaVuSans-101\"/>\n     <use x=\"166.082031\" xlink:href=\"#DejaVuSans-100\"/>\n     <use x=\"229.558594\" xlink:href=\"#DejaVuSans-105\"/>\n     <use x=\"257.341797\" xlink:href=\"#DejaVuSans-99\"/>\n     <use x=\"312.322266\" xlink:href=\"#DejaVuSans-116\"/>\n     <use x=\"351.53125\" xlink:href=\"#DejaVuSans-105\"/>\n     <use x=\"379.314453\" xlink:href=\"#DejaVuSans-111\"/>\n     <use x=\"440.496094\" xlink:href=\"#DejaVuSans-110\"/>\n     <use x=\"503.875\" xlink:href=\"#DejaVuSans-58\"/>\n     <use x=\"537.566406\" xlink:href=\"#DejaVuSans-32\"/>\n     <use x=\"569.353516\" xlink:href=\"#DejaVuSans-48\"/>\n    </g>\n   </g>\n  </g>\n </g>\n <defs>\n  <clipPath id=\"p5bd37d71b5\">\n   <rect height=\"217.44\" width=\"217.44\" x=\"26.925\" y=\"22.318125\"/>\n  </clipPath>\n </defs>\n</svg>\n",
      "image/png": "[encoded data removed]"
     },
     "metadata": {
      "needs_background": "light"
     }
    }
   ],
   "source": [
    "def predict(x):\n",
    "    layer_input = x.reshape(-1, 1, 784)\n",
    " \n",
    "    z1 = np.matmul(layer_input, fcl_w) + fcl_b\n",
    "    a1 = sigmoid(z1)\n",
    "    \n",
    "    z2 = np.matmul(z1, output_w) + output_b\n",
    "    y  = sigmoid(z2)\n",
    "\n",
    "    predictions = np.argmax(y, axis = 2)\n",
    "    return predictions[0][0]\n",
    "\n",
    "index = 795\n",
    "prediction = predict(x_test[index])\n",
    "\n",
    "plt.imshow(x_test[index])\n",
    "plt.title(f'prediction: {prediction}')"
   ]
  },
  {
   "cell_type": "code",
   "execution_count": 82,
   "metadata": {
    "tags": []
   },
   "outputs": [],
   "source": [
    "'''\n",
    "MLN algorithm:: \n",
    "\n",
    "* Input: (m) x 1 x 784\n",
    "\n",
    "* FCL:   64 neurons\n",
    "* FCL_w: (784 x 64)\n",
    "* FCL_b: (1 x 64)\n",
    "\n",
    "* output layer: 10 neurons\n",
    "* output_w:     (64 x 10)\n",
    "* output_b:     (1 x 10)\n",
    "\n",
    "\n",
    "Forward: \n",
    "* x -> Input                                    m x 1 x 784\n",
    "\n",
    "* z1 = Input * FCL_w + FCL_b                    m x 1 x 64\n",
    "* a1 = sigmoid(z1)\n",
    "\n",
    "* z2 = z1 * output_w + output_b                 m x 1 x 10\n",
    "* y  = sigmoid(z2)                              \n",
    "\n",
    "Backward: \n",
    "\n",
    "Step 1: Error\n",
    "* output_error  = (y - label) .* d_sigmoid(z2)                          m x 1 x 10\n",
    "\n",
    "                   (m x 1 x 10)      (64 x 10)^T    m x 1 x 64\n",
    "* FCL_error     = (output_error * output_w^T) .* (d_sigmoid(z1))        m x 1 x 64\n",
    "\n",
    "\n",
    "Step 2: Gradient descent\n",
    "\n",
    "                 (64 x 10)    constant           m x (1 x 10)^T   m x 1 x 64  \n",
    "* output_w      = output_w - (alpha / m) * sum( output_error^T  *    z1      )^T     64 x 10\n",
    "\n",
    "                  (1 x 10)    constant           m x 1 x 10\n",
    "* output_b      = output_b - (alpha / m) * sum( output_error )\n",
    "\n",
    "                 (784 x 64)   constant           m x (1 x 64)^T   m x 1 x 784  \n",
    "* FCL_w         = FCL_w    - (alpha / m) * sum( FCL_error^T     *    Input   )^T    784 x 64\n",
    "\n",
    "                  (1 x 10)    constant           m x 1 x 10\n",
    "* FCL_b         = FCL_b    - (alpha / m) * sum( fcl_error )\n",
    "\n",
    "\n",
    "'''\n",
    "\n",
    "'''\n",
    "\n",
    "1. Create batches\n",
    "x_train.reshape(-1, batches, 28, 28) # maybe?\n",
    "\n",
    "2. For each batch:\n",
    "\n",
    "        forward pass\n",
    "        calculate loss\n",
    "        back propagation\n",
    "\n",
    "        cross validate on (test_set)?\n",
    "        test loss \n",
    "        test accuracy\n",
    "\n",
    "'''\n",
    "\n",
    "pass"
   ]
  },
  {
   "cell_type": "code",
   "execution_count": null,
   "metadata": {},
   "outputs": [],
   "source": []
  }
 ],
 "metadata": {
  "language_info": {
   "codemirror_mode": {
    "name": "ipython",
    "version": 3
   },
   "file_extension": ".py",
   "mimetype": "text/x-python",
   "name": "python",
   "nbconvert_exporter": "python",
   "pygments_lexer": "ipython3",
   "version": "3.7.0-final"
  },
  "orig_nbformat": 2,
  "kernelspec": {
   "name": "python37064bit78953dc494144a2a9da2aa53b3eb18a9",
   "display_name": "Python 3.7.0 64-bit"
  }
 },
 "nbformat": 4,
 "nbformat_minor": 2
}